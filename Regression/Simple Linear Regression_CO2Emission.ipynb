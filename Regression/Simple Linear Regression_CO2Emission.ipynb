{
 "cells": [
  {
   "cell_type": "markdown",
   "id": "b1c1164f-848a-4e1f-a73d-8ef965edddac",
   "metadata": {},
   "source": [
    "# <center> Simple Linear Regression on CO2 Emissions : Core Logic Approach </center>"
   ]
  },
  {
   "cell_type": "markdown",
   "id": "3698d731-e785-4d57-9fb8-11498f391dbd",
   "metadata": {},
   "source": [
    "## Importing Dependencies"
   ]
  },
  {
   "cell_type": "code",
   "execution_count": 94,
   "id": "8af403ed-9dfd-4a39-a40b-3473aa924a33",
   "metadata": {},
   "outputs": [],
   "source": [
    "import pandas as pd\n",
    "import random\n",
    "import math"
   ]
  },
  {
   "cell_type": "markdown",
   "id": "d9b51f61-ba8d-4bb9-8d5d-ee9a66a60395",
   "metadata": {},
   "source": [
    "## Importing the dataset into the environment"
   ]
  },
  {
   "cell_type": "code",
   "execution_count": 95,
   "id": "c41273d9-d12d-4bcf-9c52-c3e96ab2eb4d",
   "metadata": {},
   "outputs": [],
   "source": [
    "co2Data = pd.read_csv('Datasets/CO2emission.csv')"
   ]
  },
  {
   "cell_type": "markdown",
   "id": "bd9a7b10-394f-4db6-9077-87df1b90d145",
   "metadata": {},
   "source": [
    "## Inspecting the dataset"
   ]
  },
  {
   "cell_type": "code",
   "execution_count": 96,
   "id": "89702d98-ef2a-4fdd-803b-e712dd41338d",
   "metadata": {},
   "outputs": [
    {
     "data": {
      "text/html": [
       "<div>\n",
       "<style scoped>\n",
       "    .dataframe tbody tr th:only-of-type {\n",
       "        vertical-align: middle;\n",
       "    }\n",
       "\n",
       "    .dataframe tbody tr th {\n",
       "        vertical-align: top;\n",
       "    }\n",
       "\n",
       "    .dataframe thead th {\n",
       "        text-align: right;\n",
       "    }\n",
       "</style>\n",
       "<table border=\"1\" class=\"dataframe\">\n",
       "  <thead>\n",
       "    <tr style=\"text-align: right;\">\n",
       "      <th></th>\n",
       "      <th>Make</th>\n",
       "      <th>Model</th>\n",
       "      <th>VehicleClass</th>\n",
       "      <th>EngineSize</th>\n",
       "      <th>Cylinders</th>\n",
       "      <th>FuelConsumptionCity</th>\n",
       "      <th>CO2Emissions</th>\n",
       "    </tr>\n",
       "  </thead>\n",
       "  <tbody>\n",
       "    <tr>\n",
       "      <th>0</th>\n",
       "      <td>ACURA</td>\n",
       "      <td>ILX</td>\n",
       "      <td>COMPACT</td>\n",
       "      <td>2.0</td>\n",
       "      <td>4</td>\n",
       "      <td>9.9</td>\n",
       "      <td>196</td>\n",
       "    </tr>\n",
       "    <tr>\n",
       "      <th>1</th>\n",
       "      <td>ACURA</td>\n",
       "      <td>ILX</td>\n",
       "      <td>COMPACT</td>\n",
       "      <td>2.4</td>\n",
       "      <td>4</td>\n",
       "      <td>11.2</td>\n",
       "      <td>221</td>\n",
       "    </tr>\n",
       "    <tr>\n",
       "      <th>2</th>\n",
       "      <td>ACURA</td>\n",
       "      <td>ILX HYBRID</td>\n",
       "      <td>COMPACT</td>\n",
       "      <td>1.5</td>\n",
       "      <td>4</td>\n",
       "      <td>6.0</td>\n",
       "      <td>136</td>\n",
       "    </tr>\n",
       "    <tr>\n",
       "      <th>3</th>\n",
       "      <td>ACURA</td>\n",
       "      <td>MDX 4WD</td>\n",
       "      <td>SUV - SMALL</td>\n",
       "      <td>3.5</td>\n",
       "      <td>6</td>\n",
       "      <td>12.7</td>\n",
       "      <td>255</td>\n",
       "    </tr>\n",
       "    <tr>\n",
       "      <th>4</th>\n",
       "      <td>ACURA</td>\n",
       "      <td>RDX AWD</td>\n",
       "      <td>SUV - SMALL</td>\n",
       "      <td>3.5</td>\n",
       "      <td>6</td>\n",
       "      <td>12.1</td>\n",
       "      <td>244</td>\n",
       "    </tr>\n",
       "  </tbody>\n",
       "</table>\n",
       "</div>"
      ],
      "text/plain": [
       "    Make       Model VehicleClass  EngineSize  Cylinders  FuelConsumptionCity  \\\n",
       "0  ACURA         ILX      COMPACT         2.0          4                  9.9   \n",
       "1  ACURA         ILX      COMPACT         2.4          4                 11.2   \n",
       "2  ACURA  ILX HYBRID      COMPACT         1.5          4                  6.0   \n",
       "3  ACURA     MDX 4WD  SUV - SMALL         3.5          6                 12.7   \n",
       "4  ACURA     RDX AWD  SUV - SMALL         3.5          6                 12.1   \n",
       "\n",
       "   CO2Emissions  \n",
       "0           196  \n",
       "1           221  \n",
       "2           136  \n",
       "3           255  \n",
       "4           244  "
      ]
     },
     "execution_count": 96,
     "metadata": {},
     "output_type": "execute_result"
    }
   ],
   "source": [
    "co2Data.head()"
   ]
  },
  {
   "cell_type": "code",
   "execution_count": 97,
   "id": "6e132114-3043-442e-b266-d0c89b302992",
   "metadata": {},
   "outputs": [
    {
     "data": {
      "text/plain": [
       "(7385, 7)"
      ]
     },
     "execution_count": 97,
     "metadata": {},
     "output_type": "execute_result"
    }
   ],
   "source": [
    "co2Data.shape"
   ]
  },
  {
   "cell_type": "code",
   "execution_count": 98,
   "id": "8168383c-323c-49d2-8cec-5510a3414ac1",
   "metadata": {},
   "outputs": [
    {
     "data": {
      "text/plain": [
       "Make                   0\n",
       "Model                  0\n",
       "VehicleClass           0\n",
       "EngineSize             0\n",
       "Cylinders              0\n",
       "FuelConsumptionCity    0\n",
       "CO2Emissions           0\n",
       "dtype: int64"
      ]
     },
     "execution_count": 98,
     "metadata": {},
     "output_type": "execute_result"
    }
   ],
   "source": [
    "co2Data.isnull().sum()"
   ]
  },
  {
   "cell_type": "code",
   "execution_count": 99,
   "id": "03b6c356-933a-4538-9b1a-003a67198439",
   "metadata": {},
   "outputs": [
    {
     "name": "stdout",
     "output_type": "stream",
     "text": [
      "<class 'pandas.core.frame.DataFrame'>\n",
      "RangeIndex: 7385 entries, 0 to 7384\n",
      "Data columns (total 7 columns):\n",
      " #   Column               Non-Null Count  Dtype  \n",
      "---  ------               --------------  -----  \n",
      " 0   Make                 7385 non-null   object \n",
      " 1   Model                7385 non-null   object \n",
      " 2   VehicleClass         7385 non-null   object \n",
      " 3   EngineSize           7385 non-null   float64\n",
      " 4   Cylinders            7385 non-null   int64  \n",
      " 5   FuelConsumptionCity  7385 non-null   float64\n",
      " 6   CO2Emissions         7385 non-null   int64  \n",
      "dtypes: float64(2), int64(2), object(3)\n",
      "memory usage: 404.0+ KB\n"
     ]
    }
   ],
   "source": [
    "co2Data.info()"
   ]
  },
  {
   "cell_type": "code",
   "execution_count": 100,
   "id": "59759386-639d-40ea-8c9f-b1b5d7acfcda",
   "metadata": {},
   "outputs": [
    {
     "data": {
      "text/html": [
       "<div>\n",
       "<style scoped>\n",
       "    .dataframe tbody tr th:only-of-type {\n",
       "        vertical-align: middle;\n",
       "    }\n",
       "\n",
       "    .dataframe tbody tr th {\n",
       "        vertical-align: top;\n",
       "    }\n",
       "\n",
       "    .dataframe thead th {\n",
       "        text-align: right;\n",
       "    }\n",
       "</style>\n",
       "<table border=\"1\" class=\"dataframe\">\n",
       "  <thead>\n",
       "    <tr style=\"text-align: right;\">\n",
       "      <th></th>\n",
       "      <th>EngineSize</th>\n",
       "      <th>Cylinders</th>\n",
       "      <th>FuelConsumptionCity</th>\n",
       "      <th>CO2Emissions</th>\n",
       "    </tr>\n",
       "  </thead>\n",
       "  <tbody>\n",
       "    <tr>\n",
       "      <th>count</th>\n",
       "      <td>7385.000000</td>\n",
       "      <td>7385.000000</td>\n",
       "      <td>7385.000000</td>\n",
       "      <td>7385.000000</td>\n",
       "    </tr>\n",
       "    <tr>\n",
       "      <th>mean</th>\n",
       "      <td>3.160068</td>\n",
       "      <td>5.615030</td>\n",
       "      <td>12.556534</td>\n",
       "      <td>250.584699</td>\n",
       "    </tr>\n",
       "    <tr>\n",
       "      <th>std</th>\n",
       "      <td>1.354170</td>\n",
       "      <td>1.828307</td>\n",
       "      <td>3.500274</td>\n",
       "      <td>58.512679</td>\n",
       "    </tr>\n",
       "    <tr>\n",
       "      <th>min</th>\n",
       "      <td>0.900000</td>\n",
       "      <td>3.000000</td>\n",
       "      <td>4.200000</td>\n",
       "      <td>96.000000</td>\n",
       "    </tr>\n",
       "    <tr>\n",
       "      <th>25%</th>\n",
       "      <td>2.000000</td>\n",
       "      <td>4.000000</td>\n",
       "      <td>10.100000</td>\n",
       "      <td>208.000000</td>\n",
       "    </tr>\n",
       "    <tr>\n",
       "      <th>50%</th>\n",
       "      <td>3.000000</td>\n",
       "      <td>6.000000</td>\n",
       "      <td>12.100000</td>\n",
       "      <td>246.000000</td>\n",
       "    </tr>\n",
       "    <tr>\n",
       "      <th>75%</th>\n",
       "      <td>3.700000</td>\n",
       "      <td>6.000000</td>\n",
       "      <td>14.600000</td>\n",
       "      <td>288.000000</td>\n",
       "    </tr>\n",
       "    <tr>\n",
       "      <th>max</th>\n",
       "      <td>8.400000</td>\n",
       "      <td>16.000000</td>\n",
       "      <td>30.600000</td>\n",
       "      <td>522.000000</td>\n",
       "    </tr>\n",
       "  </tbody>\n",
       "</table>\n",
       "</div>"
      ],
      "text/plain": [
       "        EngineSize    Cylinders  FuelConsumptionCity  CO2Emissions\n",
       "count  7385.000000  7385.000000          7385.000000   7385.000000\n",
       "mean      3.160068     5.615030            12.556534    250.584699\n",
       "std       1.354170     1.828307             3.500274     58.512679\n",
       "min       0.900000     3.000000             4.200000     96.000000\n",
       "25%       2.000000     4.000000            10.100000    208.000000\n",
       "50%       3.000000     6.000000            12.100000    246.000000\n",
       "75%       3.700000     6.000000            14.600000    288.000000\n",
       "max       8.400000    16.000000            30.600000    522.000000"
      ]
     },
     "execution_count": 100,
     "metadata": {},
     "output_type": "execute_result"
    }
   ],
   "source": [
    "co2Data.describe()"
   ]
  },
  {
   "cell_type": "code",
   "execution_count": 101,
   "id": "a8a93be2-6557-4e76-8d60-3aafd8d3daa8",
   "metadata": {},
   "outputs": [
    {
     "data": {
      "text/plain": [
       "1295"
      ]
     },
     "execution_count": 101,
     "metadata": {},
     "output_type": "execute_result"
    }
   ],
   "source": [
    "co2Data.duplicated().sum()"
   ]
  },
  {
   "cell_type": "code",
   "execution_count": 102,
   "id": "389177c8-1d88-4d38-a464-9b31b0a99b12",
   "metadata": {},
   "outputs": [
    {
     "data": {
      "text/plain": [
       "0"
      ]
     },
     "execution_count": 102,
     "metadata": {},
     "output_type": "execute_result"
    }
   ],
   "source": [
    "co2Data = co2Data.drop_duplicates()\n",
    "co2Data.duplicated().sum()"
   ]
  },
  {
   "cell_type": "code",
   "execution_count": 103,
   "id": "84be7c41-c0d4-4c45-8bae-3f1b0174bb04",
   "metadata": {},
   "outputs": [
    {
     "data": {
      "text/plain": [
       "(6090, 7)"
      ]
     },
     "execution_count": 103,
     "metadata": {},
     "output_type": "execute_result"
    }
   ],
   "source": [
    "co2Data.shape"
   ]
  },
  {
   "cell_type": "markdown",
   "id": "a3254c6f-e82c-408e-8442-ef498fc13d11",
   "metadata": {},
   "source": [
    "## Identifying correlations between the dependent and independent features in the dataset"
   ]
  },
  {
   "cell_type": "markdown",
   "id": "1f0181ee-9e5b-4fd5-91f5-1ae7dfe61924",
   "metadata": {},
   "source": [
    "### Pearson's Correlation Coefficient\n",
    "\n",
    "- The Pearson correlation coefficient \\( r \\) is a measure of the linear relationship between two variables. It is calculated using the formula:\n",
    "\n",
    "$$ \n",
    "r = \\frac{n \\sum (XY) - \\sum X \\sum Y}{\\sqrt{[n \\sum (X^2) - (\\sum X)^2][n \\sum (Y^2) - (\\sum Y)^2]}}\n",
    "$$\n",
    "\n",
    "- Dependent Variable    = CO2Emissions\n",
    "- Independent Variables = EngineSize, Cylinders, FuelConsumptionCity"
   ]
  },
  {
   "cell_type": "code",
   "execution_count": 104,
   "id": "dd15d884-2af4-4c1c-aa50-673bcf6b7ba7",
   "metadata": {},
   "outputs": [],
   "source": [
    "def Karl_Pearson_Correlation(indeFeature, depenFeature = \"CO2Emissions\"):\n",
    "    X = co2Data[indeFeature]\n",
    "    Y = co2Data[depenFeature]\n",
    "    n = len(Y)        \n",
    "    sumX = sum(X)\n",
    "    sumY = sum(Y)\n",
    "    sumXY = sum(X[:] * Y[:])\n",
    "    sumXsq = sum(X[:] * X[:])\n",
    "    sumYsq = sum(Y[:] * Y[:])\n",
    "    numerator = (n * sumXY) - (sumX * sumY)\n",
    "    denominator = (n * sumXsq - (sumX ** 2)) * (n * sumYsq - (sumY ** 2))\n",
    "    if denominator != 0:\n",
    "        corr = numerator / math.sqrt(denominator)\n",
    "    else:\n",
    "        corr = None\n",
    "    return corr"
   ]
  },
  {
   "cell_type": "code",
   "execution_count": 105,
   "id": "d4d2057b-fedb-4242-a968-dec4c6584517",
   "metadata": {},
   "outputs": [
    {
     "data": {
      "text/html": [
       "<div>\n",
       "<style scoped>\n",
       "    .dataframe tbody tr th:only-of-type {\n",
       "        vertical-align: middle;\n",
       "    }\n",
       "\n",
       "    .dataframe tbody tr th {\n",
       "        vertical-align: top;\n",
       "    }\n",
       "\n",
       "    .dataframe thead th {\n",
       "        text-align: right;\n",
       "    }\n",
       "</style>\n",
       "<table border=\"1\" class=\"dataframe\">\n",
       "  <thead>\n",
       "    <tr style=\"text-align: right;\">\n",
       "      <th></th>\n",
       "      <th>EngineSize-CO2Emissions</th>\n",
       "      <th>Cylinders-CO2Emissions</th>\n",
       "      <th>FuelConsumptionCity-CO2Emissions</th>\n",
       "    </tr>\n",
       "  </thead>\n",
       "  <tbody>\n",
       "    <tr>\n",
       "      <th>Correlation (r)</th>\n",
       "      <td>0.855194</td>\n",
       "      <td>0.834444</td>\n",
       "      <td>0.918415</td>\n",
       "    </tr>\n",
       "  </tbody>\n",
       "</table>\n",
       "</div>"
      ],
      "text/plain": [
       "                 EngineSize-CO2Emissions  Cylinders-CO2Emissions  \\\n",
       "Correlation (r)                 0.855194                0.834444   \n",
       "\n",
       "                 FuelConsumptionCity-CO2Emissions  \n",
       "Correlation (r)                          0.918415  "
      ]
     },
     "execution_count": 105,
     "metadata": {},
     "output_type": "execute_result"
    }
   ],
   "source": [
    "correlations = {}\n",
    "for feature in [\"EngineSize\", \"Cylinders\", \"FuelConsumptionCity\"]:\n",
    "    correlations[f\"{feature}-CO2Emissions\"] = Karl_Pearson_Correlation(feature)\n",
    "pd.DataFrame(correlations, index = ['Correlation (r)'])"
   ]
  },
  {
   "cell_type": "markdown",
   "id": "3898a93a-d29a-40a4-94ca-5ebba3160c5a",
   "metadata": {},
   "source": [
    "## <center> The Simple Linear Regression </center>\n",
    "### <center> <i> Between FuelConsumptionCity and CO2Emissions, as well as Between EngineSize and CO2Emissions </i> </center>"
   ]
  },
  {
   "cell_type": "markdown",
   "id": "bcfba040-6c96-4c37-aa5c-8f9450b9182d",
   "metadata": {},
   "source": [
    "### ► Splitting the data into training and testing sets in an 80:20 ratio"
   ]
  },
  {
   "cell_type": "code",
   "execution_count": 106,
   "id": "535113ff-e86a-4924-8f4d-64174fc70b37",
   "metadata": {},
   "outputs": [
    {
     "name": "stdout",
     "output_type": "stream",
     "text": [
      "the length of the sampled indices: 4872\n",
      "Is duplicated? : False\n"
     ]
    },
    {
     "data": {
      "text/plain": [
       "[2183, 2921, 5986, 4335, 4528, 1356, 1154, 1145, 4332, 5222]"
      ]
     },
     "execution_count": 106,
     "metadata": {},
     "output_type": "execute_result"
    }
   ],
   "source": [
    "n = int(len(co2Data) * 80/100)\n",
    "indexForTrainingSet = random.sample(range(len(co2Data)), n)\n",
    "print(f\"the length of the sampled indices: {len(indexForTrainingSet)}\")\n",
    "print(f\"Is duplicated? : {len(indexForTrainingSet) != len(set(indexForTrainingSet))}\")\n",
    "indexForTrainingSet[:10]"
   ]
  },
  {
   "cell_type": "code",
   "execution_count": 107,
   "id": "6ee4200d-19cb-43d7-a28e-2c6029142b06",
   "metadata": {},
   "outputs": [
    {
     "name": "stdout",
     "output_type": "stream",
     "text": [
      "Is this exactly 80%? : True\n"
     ]
    }
   ],
   "source": [
    "print(f\"Is this exactly 80%? : {len(indexForTrainingSet) == n}\")"
   ]
  },
  {
   "cell_type": "code",
   "execution_count": 108,
   "id": "5a827f9c-45e1-46ef-928d-a9ab44b36db2",
   "metadata": {},
   "outputs": [],
   "source": [
    "trainingSet = {'EngineSize': [], 'FuelConsumptionCity': [], 'CO2Emissions': []}\n",
    "testingSet = {'EngineSize' : [], 'FuelConsumptionCity': [], 'CO2Emissions': []}\n",
    "for index in range(len(co2Data)):\n",
    "    if index in indexForTrainingSet:\n",
    "        trainingSet['EngineSize'].append(co2Data.iloc[index]['EngineSize'])\n",
    "        trainingSet['FuelConsumptionCity'].append(co2Data.iloc[index]['FuelConsumptionCity'])\n",
    "        trainingSet['CO2Emissions'].append(co2Data.iloc[index]['CO2Emissions'])\n",
    "    elif index not in indexForTrainingSet:\n",
    "        testingSet['EngineSize'].append(co2Data.iloc[index]['EngineSize'])\n",
    "        testingSet['FuelConsumptionCity'].append(co2Data.iloc[index]['FuelConsumptionCity'])\n",
    "        testingSet['CO2Emissions'].append(co2Data.iloc[index]['CO2Emissions'])\n",
    "trainingSet = pd.DataFrame(trainingSet).reset_index(drop = True)\n",
    "testingSet = pd.DataFrame(testingSet).reset_index(drop = True)"
   ]
  },
  {
   "cell_type": "code",
   "execution_count": 109,
   "id": "36ca8bdc-6b6e-4e1c-98e4-a90b7f18cd4b",
   "metadata": {},
   "outputs": [
    {
     "name": "stdout",
     "output_type": "stream",
     "text": [
      "the length of the training set: 4872\n",
      "the length of the testing set: 1218\n",
      "the ratio of the training set to the entire dataset: 80%\n",
      "the ratio of the testing set to the entire dataset: 20%\n"
     ]
    }
   ],
   "source": [
    "print(f\"the length of the training set: {len(trainingSet)}\")\n",
    "print(f\"the length of the testing set: {len(testingSet)}\")\n",
    "print(f\"the ratio of the training set to the entire dataset: {int((len(trainingSet) / len(co2Data)) * 100)}%\")\n",
    "print(f\"the ratio of the testing set to the entire dataset: {int((len(testingSet) / len(co2Data)) * 100)}%\")"
   ]
  },
  {
   "cell_type": "code",
   "execution_count": 110,
   "id": "ba0465b2-4896-4971-9312-9a17e2967d00",
   "metadata": {},
   "outputs": [
    {
     "data": {
      "text/html": [
       "<div>\n",
       "<style scoped>\n",
       "    .dataframe tbody tr th:only-of-type {\n",
       "        vertical-align: middle;\n",
       "    }\n",
       "\n",
       "    .dataframe tbody tr th {\n",
       "        vertical-align: top;\n",
       "    }\n",
       "\n",
       "    .dataframe thead th {\n",
       "        text-align: right;\n",
       "    }\n",
       "</style>\n",
       "<table border=\"1\" class=\"dataframe\">\n",
       "  <thead>\n",
       "    <tr style=\"text-align: right;\">\n",
       "      <th></th>\n",
       "      <th>EngineSize</th>\n",
       "      <th>FuelConsumptionCity</th>\n",
       "      <th>CO2Emissions</th>\n",
       "    </tr>\n",
       "  </thead>\n",
       "  <tbody>\n",
       "    <tr>\n",
       "      <th>0</th>\n",
       "      <td>2.0</td>\n",
       "      <td>9.9</td>\n",
       "      <td>196</td>\n",
       "    </tr>\n",
       "    <tr>\n",
       "      <th>1</th>\n",
       "      <td>2.4</td>\n",
       "      <td>11.2</td>\n",
       "      <td>221</td>\n",
       "    </tr>\n",
       "    <tr>\n",
       "      <th>2</th>\n",
       "      <td>3.5</td>\n",
       "      <td>12.7</td>\n",
       "      <td>255</td>\n",
       "    </tr>\n",
       "    <tr>\n",
       "      <th>3</th>\n",
       "      <td>3.5</td>\n",
       "      <td>11.9</td>\n",
       "      <td>230</td>\n",
       "    </tr>\n",
       "    <tr>\n",
       "      <th>4</th>\n",
       "      <td>3.5</td>\n",
       "      <td>11.8</td>\n",
       "      <td>232</td>\n",
       "    </tr>\n",
       "  </tbody>\n",
       "</table>\n",
       "</div>"
      ],
      "text/plain": [
       "   EngineSize  FuelConsumptionCity  CO2Emissions\n",
       "0         2.0                  9.9           196\n",
       "1         2.4                 11.2           221\n",
       "2         3.5                 12.7           255\n",
       "3         3.5                 11.9           230\n",
       "4         3.5                 11.8           232"
      ]
     },
     "execution_count": 110,
     "metadata": {},
     "output_type": "execute_result"
    }
   ],
   "source": [
    "trainingSet.head()"
   ]
  },
  {
   "cell_type": "code",
   "execution_count": 111,
   "id": "0e368e43-fdd6-44ab-a08a-d837651220d7",
   "metadata": {},
   "outputs": [
    {
     "data": {
      "text/html": [
       "<div>\n",
       "<style scoped>\n",
       "    .dataframe tbody tr th:only-of-type {\n",
       "        vertical-align: middle;\n",
       "    }\n",
       "\n",
       "    .dataframe tbody tr th {\n",
       "        vertical-align: top;\n",
       "    }\n",
       "\n",
       "    .dataframe thead th {\n",
       "        text-align: right;\n",
       "    }\n",
       "</style>\n",
       "<table border=\"1\" class=\"dataframe\">\n",
       "  <thead>\n",
       "    <tr style=\"text-align: right;\">\n",
       "      <th></th>\n",
       "      <th>EngineSize</th>\n",
       "      <th>FuelConsumptionCity</th>\n",
       "      <th>CO2Emissions</th>\n",
       "    </tr>\n",
       "  </thead>\n",
       "  <tbody>\n",
       "    <tr>\n",
       "      <th>0</th>\n",
       "      <td>1.5</td>\n",
       "      <td>6.0</td>\n",
       "      <td>136</td>\n",
       "    </tr>\n",
       "    <tr>\n",
       "      <th>1</th>\n",
       "      <td>3.5</td>\n",
       "      <td>12.1</td>\n",
       "      <td>244</td>\n",
       "    </tr>\n",
       "    <tr>\n",
       "      <th>2</th>\n",
       "      <td>3.7</td>\n",
       "      <td>12.8</td>\n",
       "      <td>255</td>\n",
       "    </tr>\n",
       "    <tr>\n",
       "      <th>3</th>\n",
       "      <td>2.4</td>\n",
       "      <td>11.2</td>\n",
       "      <td>225</td>\n",
       "    </tr>\n",
       "    <tr>\n",
       "      <th>4</th>\n",
       "      <td>5.9</td>\n",
       "      <td>18.0</td>\n",
       "      <td>359</td>\n",
       "    </tr>\n",
       "  </tbody>\n",
       "</table>\n",
       "</div>"
      ],
      "text/plain": [
       "   EngineSize  FuelConsumptionCity  CO2Emissions\n",
       "0         1.5                  6.0           136\n",
       "1         3.5                 12.1           244\n",
       "2         3.7                 12.8           255\n",
       "3         2.4                 11.2           225\n",
       "4         5.9                 18.0           359"
      ]
     },
     "execution_count": 111,
     "metadata": {},
     "output_type": "execute_result"
    }
   ],
   "source": [
    "testingSet.head()"
   ]
  },
  {
   "cell_type": "markdown",
   "id": "9e0aeb6a-8c86-4020-9382-1a9a3560f6c5",
   "metadata": {},
   "source": [
    "### ► Model training"
   ]
  },
  {
   "cell_type": "markdown",
   "id": "73ab6106-10b2-4c6f-a5b4-b1244cf42b7b",
   "metadata": {},
   "source": [
    "#### ➔ Calculating Coefficients for Simple Linear Regression Using Ordinary Least Squares"
   ]
  },
  {
   "cell_type": "code",
   "execution_count": 112,
   "id": "b3992058-675f-4ae5-b304-710c00a46ca9",
   "metadata": {},
   "outputs": [],
   "source": [
    "def coefficients(X, Y):\n",
    "    meanX = sum(X) / len(X)\n",
    "    meanY = sum(Y) / len(Y)\n",
    "    numerator = sum((X[:] - meanX) * (Y[:] - meanY))\n",
    "    denominator = sum((X[:] - meanX) ** 2)\n",
    "    beta1 = numerator / denominator\n",
    "    beta0 = meanY - (beta1 * meanX)\n",
    "    return beta0, beta1"
   ]
  },
  {
   "cell_type": "markdown",
   "id": "dc89ea94-4de2-4cc6-901b-5e8de870e9fb",
   "metadata": {},
   "source": [
    "#### ➔ Simple Linear Regression between FuelConsumptionCity and CO2Emissions"
   ]
  },
  {
   "cell_type": "code",
   "execution_count": 113,
   "id": "b18cbe27-ab6b-45b8-9d45-6b359013a837",
   "metadata": {},
   "outputs": [],
   "source": [
    "intercept, regressionCoefficient = coefficients(trainingSet['FuelConsumptionCity'], trainingSet['CO2Emissions'])\n",
    "modelLR = lambda inputData : intercept + regressionCoefficient * inputData"
   ]
  },
  {
   "cell_type": "code",
   "execution_count": 114,
   "id": "a41caa0f-2a5f-4765-9e03-e63d97a58016",
   "metadata": {},
   "outputs": [
    {
     "name": "stdout",
     "output_type": "stream",
     "text": [
      "Intercept: 58.40910834478734\n",
      "Regression Coefficient: 15.27851974238597\n"
     ]
    }
   ],
   "source": [
    "print(f\"Intercept: {intercept}\")\n",
    "print(f\"Regression Coefficient: {regressionCoefficient}\")"
   ]
  },
  {
   "cell_type": "code",
   "execution_count": 115,
   "id": "fc4c3ee5-5603-431e-b040-71df8c410763",
   "metadata": {},
   "outputs": [
    {
     "data": {
      "text/plain": [
       "0    150.080227\n",
       "1    243.279197\n",
       "2    253.974161\n",
       "3    229.528529\n",
       "4    333.422464\n",
       "Name: FuelConsumptionCity, dtype: float64"
      ]
     },
     "execution_count": 115,
     "metadata": {},
     "output_type": "execute_result"
    }
   ],
   "source": [
    "predictions = modelLR(testingSet['FuelConsumptionCity'])\n",
    "predictions[:5]"
   ]
  },
  {
   "cell_type": "markdown",
   "id": "0f1f595f-9483-4354-b21a-59e29f66aed8",
   "metadata": {},
   "source": [
    "#### ⇒ Model Evaluation"
   ]
  },
  {
   "cell_type": "markdown",
   "id": "cf5d884d-9187-4903-915e-de6dd05019f8",
   "metadata": {},
   "source": [
    "- ##### Mean Absolute Error (MAE) : Measures the average magnitude of errors in a set of predictions, without considering their direction.\n",
    "$$ \n",
    "\\text{MAE} = \\frac{1}{n} \\sum_{i=1}^{n} |y_i - \\hat{y}_i|\n",
    "$$\n",
    "\n",
    "---\n",
    "\n",
    "- ##### Mean Squared Error (MSE) :  Measures the average squared difference between predicted and actual values, giving more weight to larger errors.\n",
    "$$ \n",
    "\\text{MSE} = \\frac{1}{n} \\sum_{i=1}^{n} (y_i - \\hat{y}_i)^2\n",
    "$$\n",
    "\n",
    "---\n",
    "\n",
    "- ##### Root Mean Squared Error (RMSE) : The square root of the average of squared differences between prediction and actual observation, representing error in the same units as the original data.\n",
    "$$ \n",
    "\\text{RMSE} = \\sqrt{\\text{MSE}} = \\sqrt{\\frac{1}{n} \\sum_{i=1}^{n} (y_i - \\hat{y}_i)^2}\n",
    "$$\n",
    "\n",
    "---\n",
    "\n",
    "- ##### R-squared (R²) : Represents the proportion of variance for a dependent variable that's explained by an independent variable(s) in a regression model.\n",
    "$$ \n",
    "R^2 = 1 - \\frac{\\text{SS}_{\\text{res}}}{\\text{SS}_{\\text{tot}}}\n",
    "$$\n",
    "\n",
    "---\n",
    "\n",
    "- ##### Adjusted R-squared (Adjusted R²) : Adjusts R² for the number of predictors in a model, providing a more accurate measure for multiple regression.\n",
    "$$ \n",
    "\\text{Adjusted } R^2 = 1 - \\left(1 - R^2\\right) \\frac{n-1}{n-p-1}\n",
    "$$\n",
    "\n",
    "where \\( n \\) is the number of observations and \\( p \\) is the number of predictors.\n"
   ]
  },
  {
   "cell_type": "code",
   "execution_count": 134,
   "id": "d65ab730-988e-451e-aa75-da4d2f51e5c9",
   "metadata": {},
   "outputs": [
    {
     "name": "stdout",
     "output_type": "stream",
     "text": [
      "MAE ➔ 23.428725834834832\n",
      "MSE ➔ 941.1305750215491\n",
      "RMSE ➔ 30.677851538553824\n"
     ]
    }
   ],
   "source": [
    "print(f\"MAE ➔ {sum(abs(testingSet['CO2Emissions'] - predictions)) / len(testingSet)}\")\n",
    "print(f\"MSE ➔ {sum((testingSet['CO2Emissions'] - predictions) ** 2) / len(testingSet)}\")\n",
    "print(f\"RMSE ➔ {math.sqrt(sum((testingSet['CO2Emissions'] - predictions) ** 2) / len(testingSet))}\")"
   ]
  },
  {
   "cell_type": "code",
   "execution_count": 124,
   "id": "515ef784-4e2a-4880-b780-a8e29404ee09",
   "metadata": {},
   "outputs": [
    {
     "name": "stdout",
     "output_type": "stream",
     "text": [
      "R-Squared/ Coefficient of determination ➔ 0.737521215337696\n"
     ]
    }
   ],
   "source": [
    "meanVal = sum(co2Data['CO2Emissions']) / len(co2Data['CO2Emissions'])\n",
    "sumOfSquaredError = sum((testingSet['CO2Emissions'] - predictions) ** 2)\n",
    "totalSumOfSquare = sum((testingSet['CO2Emissions'] - meanVal) ** 2)\n",
    "R_Squared = 1 - (sumOfSquaredError / totalSumOfSquare)\n",
    "print(f\"R-Squared/ Coefficient of determination ➔ { R_Squared }\")"
   ]
  },
  {
   "cell_type": "code",
   "execution_count": 125,
   "id": "44fb8b9b-405a-49d9-bca9-001d0a048630",
   "metadata": {},
   "outputs": [
    {
     "name": "stdout",
     "output_type": "stream",
     "text": [
      "Adjusted R-Squared/ Coefficient of determination ➔ 0.7373053610739935\n"
     ]
    }
   ],
   "source": [
    "numerator = (1 - R_Squared) * (len(testingSet) - 1)\n",
    "denominator = len(testingSet) - 1 - 1\n",
    "adjustedR_Squared = 1 - numerator / denominator\n",
    "print(f\"Adjusted R-Squared/ Coefficient of determination ➔ { adjustedR_Squared }\")"
   ]
  },
  {
   "cell_type": "markdown",
   "id": "de5de152-dd63-40ee-a7a8-b5d2adbc8b9c",
   "metadata": {},
   "source": [
    "#### ➔ Simple Linear Regression between Engine and CO2 Emissions"
   ]
  },
  {
   "cell_type": "code",
   "execution_count": 135,
   "id": "1c6de65c-cdff-4687-b807-1e1e289fcbf1",
   "metadata": {},
   "outputs": [],
   "source": [
    "intercept, regressionCoefficient = coefficients(trainingSet['EngineSize'], trainingSet['CO2Emissions'])\n",
    "modelLR = lambda inputData : intercept + regressionCoefficient * inputData"
   ]
  },
  {
   "cell_type": "code",
   "execution_count": 136,
   "id": "2455fa8f-e0b8-4dda-a38b-84f1c12cf9d2",
   "metadata": {},
   "outputs": [
    {
     "name": "stdout",
     "output_type": "stream",
     "text": [
      "Intercept: 133.95520568545692\n",
      "Regression Coefficient: 37.072613553498336\n"
     ]
    }
   ],
   "source": [
    "print(f\"Intercept: {intercept}\")\n",
    "print(f\"Regression Coefficient: {regressionCoefficient}\")"
   ]
  },
  {
   "cell_type": "code",
   "execution_count": 137,
   "id": "4b829918-78e6-425b-bb32-7d463483c4a6",
   "metadata": {},
   "outputs": [
    {
     "data": {
      "text/plain": [
       "0    189.564126\n",
       "1    263.709353\n",
       "2    271.123876\n",
       "3    222.929478\n",
       "4    352.683626\n",
       "Name: EngineSize, dtype: float64"
      ]
     },
     "execution_count": 137,
     "metadata": {},
     "output_type": "execute_result"
    }
   ],
   "source": [
    "predictions = modelLR(testingSet['EngineSize'])\n",
    "predictions[:5]"
   ]
  },
  {
   "cell_type": "markdown",
   "id": "7a5bacae-ef94-4834-84a9-a0331ed0c12d",
   "metadata": {},
   "source": [
    "#### ⇒ Model Evaluation"
   ]
  },
  {
   "cell_type": "markdown",
   "id": "29694f3b-51d8-4639-9030-79fdc18f3909",
   "metadata": {},
   "source": [
    "- ##### Mean Absolute Error (MAE) : Measures the average magnitude of errors in a set of predictions, without considering their direction.\n",
    "$$ \n",
    "\\text{MAE} = \\frac{1}{n} \\sum_{i=1}^{n} |y_i - \\hat{y}_i|\n",
    "$$\n",
    "\n",
    "---\n",
    "\n",
    "- ##### Mean Squared Error (MSE) :  Measures the average squared difference between predicted and actual values, giving more weight to larger errors.\n",
    "$$ \n",
    "\\text{MSE} = \\frac{1}{n} \\sum_{i=1}^{n} (y_i - \\hat{y}_i)^2\n",
    "$$\n",
    "\n",
    "---\n",
    "\n",
    "- ##### Root Mean Squared Error (RMSE) : The square root of the average of squared differences between prediction and actual observation, representing error in the same units as the original data.\n",
    "$$ \n",
    "\\text{RMSE} = \\sqrt{\\text{MSE}} = \\sqrt{\\frac{1}{n} \\sum_{i=1}^{n} (y_i - \\hat{y}_i)^2}\n",
    "$$\n",
    "\n",
    "---\n",
    "\n",
    "- ##### R-squared (R²) : Represents the proportion of variance for a dependent variable that's explained by an independent variable(s) in a regression model.\n",
    "$$ \n",
    "R^2 = 1 - \\frac{\\text{SS}_{\\text{res}}}{\\text{SS}_{\\text{tot}}}\n",
    "$$\n",
    "\n",
    "---\n",
    "\n",
    "- ##### Adjusted R-squared (Adjusted R²) : Adjusts R² for the number of predictors in a model, providing a more accurate measure for multiple regression.\n",
    "$$ \n",
    "\\text{Adjusted } R^2 = 1 - \\left(1 - R^2\\right) \\frac{n-1}{n-p-1}\n",
    "$$\n",
    "\n",
    "where \\( n \\) is the number of observations and \\( p \\) is the number of predictors.\n"
   ]
  },
  {
   "cell_type": "code",
   "execution_count": 138,
   "id": "7aadf66f-e0cf-41f6-9f95-2a5e1360494e",
   "metadata": {},
   "outputs": [
    {
     "name": "stdout",
     "output_type": "stream",
     "text": [
      "MAE ➔ 23.428725834834832\n",
      "MSE ➔ 941.1305750215491\n",
      "RMSE ➔ 30.677851538553824\n"
     ]
    }
   ],
   "source": [
    "print(f\"MAE ➔ {sum(abs(testingSet['CO2Emissions'] - predictions)) / len(testingSet)}\")\n",
    "print(f\"MSE ➔ {sum((testingSet['CO2Emissions'] - predictions) ** 2) / len(testingSet)}\")\n",
    "print(f\"RMSE ➔ {math.sqrt(sum((testingSet['CO2Emissions'] - predictions) ** 2) / len(testingSet))}\")"
   ]
  },
  {
   "cell_type": "code",
   "execution_count": 139,
   "id": "ea834d37-12eb-4b5d-83a8-565e441e9207",
   "metadata": {},
   "outputs": [
    {
     "name": "stdout",
     "output_type": "stream",
     "text": [
      "R-Squared/ Coefficient of determination ➔ 0.737521215337696\n"
     ]
    }
   ],
   "source": [
    "meanVal = sum(co2Data['CO2Emissions']) / len(co2Data['CO2Emissions'])\n",
    "sumOfSquaredError = sum((testingSet['CO2Emissions'] - predictions) ** 2)\n",
    "totalSumOfSquare = sum((testingSet['CO2Emissions'] - meanVal) ** 2)\n",
    "print(f\"R-Squared/ Coefficient of determination ➔ { 1 - sumOfSquaredError / totalSumOfSquare}\")"
   ]
  },
  {
   "cell_type": "code",
   "execution_count": 140,
   "id": "4cf2505c-7ee6-4bda-b6c2-4b20c57a4baf",
   "metadata": {},
   "outputs": [
    {
     "name": "stdout",
     "output_type": "stream",
     "text": [
      "Adjusted R-Squared/ Coefficient of determination ➔ 0.7373053610739935\n"
     ]
    }
   ],
   "source": [
    "numerator = (1 - R_Squared) * (len(testingSet) - 1)\n",
    "denominator = len(testingSet) - 1 - 1\n",
    "adjustedR_Squared = 1 - numerator / denominator\n",
    "print(f\"Adjusted R-Squared/ Coefficient of determination ➔ { adjustedR_Squared }\")"
   ]
  }
 ],
 "metadata": {
  "kernelspec": {
   "display_name": "Python 3 (ipykernel)",
   "language": "python",
   "name": "python3"
  },
  "language_info": {
   "codemirror_mode": {
    "name": "ipython",
    "version": 3
   },
   "file_extension": ".py",
   "mimetype": "text/x-python",
   "name": "python",
   "nbconvert_exporter": "python",
   "pygments_lexer": "ipython3",
   "version": "3.11.5"
  }
 },
 "nbformat": 4,
 "nbformat_minor": 5
}
